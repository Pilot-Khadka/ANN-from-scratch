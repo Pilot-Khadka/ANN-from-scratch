{
 "cells": [
  {
   "cell_type": "code",
   "execution_count": 18,
   "id": "fa382166-553a-48f6-a1e4-9ea9e85e143d",
   "metadata": {},
   "outputs": [],
   "source": [
    "import os\n",
    "import numpy as np\n",
    "import requests\n",
    "import matplotlib.pyplot as plt\n",
    "from sklearn.model_selection import train_test_split\n",
    "%matplotlib inline\n",
    "    \n",
    "url = \"https://pjreddie.com/media/files/mnist_train.csv\"\n",
    "\n",
    "if not os.path.isfile('mnist_train.csv'):\n",
    "    resp = requests.get(url)\n",
    "    with open(\"mnist_train.csv\", 'wb') as file:\n",
    "        for chunk in resp:\n",
    "            file.write(chunk)\n",
    "else:\n",
    "    print(\"File exists\")\n",
    "\n",
    "data_file = open(\"mnist_train.csv\",\"r\")\n",
    "data_list = data_file.readlines()\n",
    "data_file.close()"
   ]
  },
  {
   "cell_type": "code",
   "execution_count": 20,
   "id": "7f970160-c470-4031-8ea2-d51603b39c5d",
   "metadata": {},
   "outputs": [
    {
     "data": {
      "text/plain": [
       "60000"
      ]
     },
     "execution_count": 20,
     "metadata": {},
     "output_type": "execute_result"
    }
   ],
   "source": [
    "len(data_list)"
   ]
  },
  {
   "cell_type": "code",
   "execution_count": 21,
   "id": "52c846fe-135c-48c9-8d42-246cad85d7f1",
   "metadata": {},
   "outputs": [
    {
     "data": {
      "text/plain": [
       "42000"
      ]
     },
     "execution_count": 21,
     "metadata": {},
     "output_type": "execute_result"
    }
   ],
   "source": [
    "train_data, test_data = train_test_split(data_list,test_size=0.3) \n",
    "len(train_data)"
   ]
  },
  {
   "cell_type": "code",
   "execution_count": 22,
   "id": "33ee32bf-a533-412c-8a63-3446ed486962",
   "metadata": {},
   "outputs": [
    {
     "data": {
      "text/plain": [
       "'2,0,0,0,0,0,0,0,0,0,0,0,0,0,0,0,0,0,0,0,0,0,0,0,0,0,0,0,0,0,0,0,0,0,0,0,0,0,0,0,0,0,0,0,0,0,0,0,0,0,0,0,0,0,0,0,0,0,0,0,0,0,0,0,0,0,0,0,0,0,0,0,0,0,0,0,0,0,0,0,0,0,0,0,0,0,0,0,0,0,0,149,255,254,233,170,254,254,254,153,91,29,0,0,0,0,0,0,0,0,0,0,0,0,0,0,0,0,0,254,253,253,253,253,253,253,253,253,253,92,11,0,0,0,0,0,0,0,0,0,0,0,0,0,0,0,0,185,253,253,253,201,146,205,253,253,253,253,154,0,0,0,0,0,0,0,0,0,0,0,0,0,0,0,0,20,67,220,93,29,0,31,99,240,253,253,231,50,0,0,0,0,0,0,0,0,0,0,0,0,0,0,0,0,0,0,0,0,0,0,0,156,253,253,253,65,0,0,0,0,0,0,0,0,0,0,0,0,0,0,0,0,0,0,0,0,0,0,0,25,247,253,253,203,0,0,0,0,0,0,0,0,0,0,0,0,0,0,0,0,0,0,0,0,0,0,0,0,246,253,253,228,0,0,0,0,0,0,0,0,0,0,0,0,0,0,0,0,0,0,0,0,0,0,0,142,252,253,253,80,0,0,0,0,0,0,0,0,0,0,0,0,0,0,0,0,0,0,0,0,0,0,41,216,253,253,253,65,0,0,0,0,0,0,0,0,0,0,0,0,0,0,0,0,0,0,0,0,0,136,248,253,253,245,7,2,0,0,0,0,0,0,0,0,0,0,0,0,0,0,0,0,0,0,0,0,7,143,253,253,253,132,0,0,0,0,0,0,0,0,0,0,0,0,0,0,0,0,0,0,0,0,0,0,213,253,253,253,253,81,0,0,0,0,0,0,0,0,0,0,0,0,0,0,0,0,0,0,0,0,4,105,243,253,253,253,245,73,0,0,0,0,0,0,0,0,0,0,0,0,0,0,0,0,0,0,0,49,133,253,253,253,253,253,171,0,0,0,0,0,0,27,48,0,0,0,0,0,0,0,0,0,0,0,30,130,253,253,253,253,253,253,78,153,141,42,116,205,205,216,225,205,205,0,0,0,0,0,0,0,0,0,180,253,253,253,253,253,253,253,253,253,253,253,253,253,253,253,253,253,253,0,0,0,0,0,0,0,0,0,180,253,253,253,253,253,253,253,253,253,253,253,253,253,253,253,253,236,89,0,0,0,0,0,0,0,0,0,180,253,253,253,253,253,253,253,253,253,253,253,253,253,176,106,106,75,0,0,0,0,0,0,0,0,0,0,22,179,188,253,253,253,234,179,179,179,179,163,15,15,8,0,0,0,0,0,0,0,0,0,0,0,0,0,0,0,12,89,89,89,66,0,0,0,0,0,0,0,0,0,0,0,0,0,0,0,0,0,0,0,0,0,0,0,0,0,0,0,0,0,0,0,0,0,0,0,0,0,0,0,0,0,0,0,0,0,0,0,0,0,0,0,0,0,0,0,0,0,0,0,0,0,0,0,0,0,0,0,0,0,0,0,0,0,0,0,0,0,0,0,0,0,0,0,0,0,0,0,0,0,0,0,0,0,0,0,0,0,0,0,0,0,0,0,0,0,0,0,0,0,0,0,0,0,0,0,0,0,0,0,0,0,0,0,0,0,0,0,0,0,0,0,0,0,0,0,0,0,0,0,0,0,0,0,0,0,0,0,0,0,0,0,0,0,0\\n'"
      ]
     },
     "execution_count": 22,
     "metadata": {},
     "output_type": "execute_result"
    }
   ],
   "source": [
    "# first value is label, rest is data\n",
    "train_data[0]"
   ]
  },
  {
   "cell_type": "code",
   "execution_count": 23,
   "id": "59c0db4e-4ecb-4fd9-98b9-04df091920ed",
   "metadata": {},
   "outputs": [
    {
     "name": "stdout",
     "output_type": "stream",
     "text": [
      "2\n"
     ]
    },
    {
     "data": {
      "text/plain": [
       "<matplotlib.image.AxesImage at 0x7f809b428520>"
      ]
     },
     "execution_count": 23,
     "metadata": {},
     "output_type": "execute_result"
    },
    {
     "data": {
      "image/png": "[encoded data removed]",
      "text/plain": [
       "<Figure size 640x480 with 1 Axes>"
      ]
     },
     "metadata": {},
     "output_type": "display_data"
    }
   ],
   "source": [
    "all_values = train_data[0].split(\",\")\n",
    "print(all_values[0])\n",
    "\n",
    "# reshaping each row into 28x28 data\n",
    "image_array = np.asfarray(all_values[1:]).reshape((28,28))\n",
    "plt.imshow(image_array)"
   ]
  },
  {
   "cell_type": "code",
   "execution_count": 6,
   "id": "c37bcb6c-0cdf-40a1-92a4-d71b2271e4ed",
   "metadata": {},
   "outputs": [],
   "source": [
    "# Neural network with a single hidden layer\n",
    "# input layer contains 784 = 28x28 nodes\n",
    "# number of nodes in hidden layer = n (to be experimented)\n",
    "# output layer contains 10 nodes for each numbers (0to 9)\n",
    "\n",
    "class NeuralNetwork:\n",
    "    def __init__(self, input_nodes, hidden_nodes, output_nodes, learning_rate):\n",
    "        self.input_nodes = input_nodes\n",
    "        self.hidden_nodes = hidden_nodes\n",
    "        self.output_nodes = output_nodes\n",
    "        self.learningrate = learning_rate\n",
    "        self.Weight_input_hidden = np.random.uniform(-1, 1, size = (hidden_nodes,input_nodes))\n",
    "        self.Weight_hidden_output = np.random.uniform(-1, 1, size = (output_nodes,hidden_nodes))\n",
    "        \n",
    "    def query(self,inputs_list):\n",
    "        inputs = np.array(inputs_list, ndmin=2).T\n",
    "        hidden_outputs = sigmoid(np.dot(self.Weight_input_hidden,inputs))\n",
    "        final_outputs = sigmoid(np.dot(self.Weight_hidden_output,hidden_outputs))\n",
    "        return final_outputs\n",
    "    \n",
    "    def train(self,inputs_list,targets_list):\n",
    "        inputs = np.array(inputs_list, ndmin=2).T\n",
    "        targets = np.array(targets_list, ndmin=2).T\n",
    "        \n",
    "        hidden_outputs = sigmoid(np.dot(self.Weight_input_hidden,inputs))\n",
    "        final_outputs = sigmoid(np.dot(self.Weight_hidden_output,hidden_outputs))\n",
    "        \n",
    "        output_errors = targets - final_outputs\n",
    "        hidden_errors = np.dot(self.Weight_hidden_output.T, output_errors)\n",
    "        \n",
    "        self.Weight_hidden_output += self.learningrate * np.dot((output_errors * final_outputs*(1.0-final_outputs)),np.transpose(hidden_outputs))\n",
    "        \n",
    "        self.Weight_input_hidden +=self.learningrate * np.dot((hidden_errors * hidden_outputs*(1.0-hidden_outputs)),np.transpose(inputs))\n",
    "        \n",
    "def sigmoid(z):\n",
    "    return 1/(1+np.exp(-z))"
   ]
  },
  {
   "cell_type": "code",
   "execution_count": 7,
   "id": "2dd8d582-5320-449b-955b-896e4cb95e3a",
   "metadata": {},
   "outputs": [],
   "source": [
    "input_nodes = 784\n",
    "hidden_nodes = 50\n",
    "output_nodes = 10\n",
    "learning_rate = 0.1\n",
    "\n",
    "n = NeuralNetwork(input_nodes,\n",
    "                  hidden_nodes,\n",
    "                  output_nodes,\n",
    "                  learning_rate)"
   ]
  },
  {
   "cell_type": "code",
   "execution_count": 8,
   "id": "e1977054-a41e-49e2-9d84-6f2ff46cbdb2",
   "metadata": {},
   "outputs": [
    {
     "data": {
      "text/plain": [
       "array([[0.06178795],\n",
       "       [0.11466502],\n",
       "       [0.00720234],\n",
       "       [0.14622148],\n",
       "       [0.0301806 ],\n",
       "       [0.10899997],\n",
       "       [0.50426704],\n",
       "       [0.4578066 ],\n",
       "       [0.61770924],\n",
       "       [0.88684232]])"
      ]
     },
     "execution_count": 8,
     "metadata": {},
     "output_type": "execute_result"
    }
   ],
   "source": [
    "# Check Neural Network outputs for a given input\n",
    "n.query((np.asfarray(all_values[1:])/255.0+0.99)+0.01)"
   ]
  },
  {
   "cell_type": "code",
   "execution_count": 9,
   "id": "d54a8c3c-4ccf-42e2-983f-958d45793082",
   "metadata": {},
   "outputs": [
    {
     "name": "stdout",
     "output_type": "stream",
     "text": [
      "Epoch [1/5], train_accuracy: 0.9367619047619048\n",
      "Epoch [2/5], train_accuracy: 0.9505238095238095\n",
      "Epoch [3/5], train_accuracy: 0.9564047619047619\n",
      "Epoch [4/5], train_accuracy: 0.9604285714285714\n",
      "Epoch [5/5], train_accuracy: 0.9629761904761904\n"
     ]
    }
   ],
   "source": [
    "# Scale the input values to range of 0.01 to 1.00\n",
    "# Target array of size 10 is initialized to 0.01 \n",
    "# for given label, value in target is updated to 0.99\n",
    "# for eg: label = 9 \n",
    "#                    0    1    2    3    4    5     6    7   8     9\n",
    "# initial target = [0.01 0.01 0.01 0.01 0.01 0.01 0.01 0.01 0.01 0.01 ]\n",
    "# updated target = [0.01 0.01 0.01 0.01 0.01 0.01 0.01 0.01 0.01 0.99 ]\n",
    "\n",
    "def train_nn(n,train_data,epochs):\n",
    "    for i in range(epochs):\n",
    "        for j in train_data:\n",
    "            all_values = j.split(\",\")\n",
    "            inputs = (np.asfarray(all_values[1:]) /255.0 *0.99)+0.01\n",
    "            \n",
    "            targets = np.zeros(output_nodes)+0.01\n",
    "            targets[int(all_values[0])] = 0.99\n",
    "                        \n",
    "            n.train(inputs,targets)\n",
    "        \n",
    "        accuracy = score(n,train_data)\n",
    "        print(\"Epoch [{}/{}], train_accuracy: {}\".format(i+1, epochs, accuracy))\n",
    "\n",
    "def score(n, data_list):\n",
    "    score = []\n",
    "    for i in data_list:\n",
    "        labels = i.split(\",\")\n",
    "        correct_label = int(labels[0])\n",
    "    \n",
    "        inputs = (np.asfarray(labels[1:]) /255.0 *0.99)+0.01\n",
    "        outputs = n.query(inputs)\n",
    "        label = np.argmax(outputs)\n",
    "        if(label == correct_label):\n",
    "            score.append(1)\n",
    "        else:\n",
    "            score.append(0)\n",
    "          \n",
    "    score = np.asarray(score)    \n",
    "    performance = (score.sum()/score.size)\n",
    "    return performance         \n",
    "\n",
    "# train neural network\n",
    "train_nn(n,train_data,epochs = 5)"
   ]
  },
  {
   "cell_type": "code",
   "execution_count": 10,
   "id": "d194ebc0-ff8a-4f13-88cd-9cd7d2ff9bd5",
   "metadata": {},
   "outputs": [
    {
     "name": "stdout",
     "output_type": "stream",
     "text": [
      "Test_accuracy :  0.9456666666666667\n"
     ]
    }
   ],
   "source": [
    "def test_nn(n,test_data):\n",
    "    performance = score(n,test_data)\n",
    "    return performance\n",
    "    \n",
    "# test the neural network\n",
    "print(\"Test_accuracy : \",test_nn(n,test_data))"
   ]
  },
  {
   "cell_type": "code",
   "execution_count": 13,
   "id": "169e5565-0a3f-4c02-9621-7c574665be80",
   "metadata": {},
   "outputs": [
    {
     "name": "stdout",
     "output_type": "stream",
     "text": [
      "Epoch [1/1], train_accuracy: 0.10471428571428572\n",
      "Epoch [1/1], train_accuracy: 0.20454761904761906\n",
      "Epoch [1/1], train_accuracy: 0.2876666666666667\n",
      "Epoch [1/1], train_accuracy: 0.6378333333333334\n",
      "Epoch [1/1], train_accuracy: 0.6387380952380952\n",
      "Epoch [1/1], train_accuracy: 0.6679285714285714\n",
      "Epoch [1/1], train_accuracy: 0.8221904761904761\n",
      "Epoch [1/1], train_accuracy: 0.8251904761904761\n",
      "Epoch [1/1], train_accuracy: 0.8141428571428572\n",
      "Epoch [1/1], train_accuracy: 0.8820238095238095\n",
      "5.0 %...\n",
      "Epoch [1/1], train_accuracy: 0.9074047619047619\n",
      "10.0 %...\n",
      "Epoch [1/1], train_accuracy: 0.9216190476190477\n",
      "15.0 %...\n",
      "Epoch [1/1], train_accuracy: 0.934047619047619\n",
      "20.0 %...\n",
      "Epoch [1/1], train_accuracy: 0.940952380952381\n",
      "25.0 %...\n",
      "Epoch [1/1], train_accuracy: 0.9418333333333333\n",
      "30.0 %...\n",
      "Epoch [1/1], train_accuracy: 0.946\n",
      "35.0 %...\n",
      "Epoch [1/1], train_accuracy: 0.9471190476190476\n",
      "40.0 %...\n",
      "Epoch [1/1], train_accuracy: 0.9500952380952381\n",
      "45.0 %...\n",
      "Epoch [1/1], train_accuracy: 0.9483333333333334\n",
      "50.0 %...\n",
      "Epoch [1/1], train_accuracy: 0.951952380952381\n",
      "55.00000000000001 %...\n",
      "Epoch [1/1], train_accuracy: 0.9516904761904762\n",
      "60.0 %...\n",
      "Epoch [1/1], train_accuracy: 0.9500714285714286\n",
      "65.0 %...\n",
      "Epoch [1/1], train_accuracy: 0.9545476190476191\n",
      "70.0 %...\n",
      "Epoch [1/1], train_accuracy: 0.9545\n",
      "75.0 %...\n",
      "Epoch [1/1], train_accuracy: 0.9514285714285714\n",
      "80.0 %...\n",
      "Epoch [1/1], train_accuracy: 0.9528571428571428\n",
      "85.0 %...\n",
      "Epoch [1/1], train_accuracy: 0.953047619047619\n",
      "90.0 %...\n",
      "Epoch [1/1], train_accuracy: 0.9527142857142857\n",
      "95.0 %...\n",
      "Epoch [1/1], train_accuracy: 0.9545238095238096\n",
      "100.0 %...\n"
     ]
    }
   ],
   "source": [
    "# How hidden nodes affect accuracy?\n",
    "import time\n",
    "\n",
    "score_array = []\n",
    "time_array = []\n",
    "\n",
    "arr1 = np.array([1,2,3,4,5,6,7,8,9])\n",
    "arr = np.arange(10,201,10)\n",
    "hidden_node_array = np.concatenate((arr1,arr),axis = None)\n",
    "           \n",
    "for i in hidden_node_array:\n",
    "    # get the start time\n",
    "    st = time.time()\n",
    "    \n",
    "    hidden_nodes = i\n",
    "    n = NeuralNetwork(input_nodes,\n",
    "                      hidden_nodes,\n",
    "                      output_nodes,\n",
    "                      learning_rate)\n",
    "    \n",
    "    train_nn(n,train_data,epochs = 1);\n",
    "    \n",
    "    performance = test_nn(n,test_data)\n",
    "    \n",
    "    # store  performance% for plotting\n",
    "    score_array.append(performance)\n",
    "    \n",
    "    # get the end time\n",
    "    et = time.time()\n",
    "    \n",
    "    # get the execution time\n",
    "    elapsed_time = et - st\n",
    "    time_array.append(elapsed_time)\n",
    "    \n",
    "    if (hidden_nodes % 10 == 0):\n",
    "        print((hidden_nodes/200)*100,\"%...\")"
   ]
  },
  {
   "cell_type": "code",
   "execution_count": 17,
   "id": "09c7966a-2cf5-42b1-9f49-69b7570be8fe",
   "metadata": {},
   "outputs": [
    {
     "data": {
      "image/png": "[encoded data removed]",
      "text/plain": [
       "<Figure size 640x480 with 2 Axes>"
      ]
     },
     "metadata": {},
     "output_type": "display_data"
    }
   ],
   "source": [
    "# Relation between Number of hidden nodes and accuracy\n",
    "fig, ax1 = plt.subplots()\n",
    "ax1.plot(hidden_node_array,score_array,color=\"blue\")\n",
    "ax1.set_xlabel(\"Number of hidden nodes\")\n",
    "ax1.set_xlim(0, 200)\n",
    "ax1.set_ylabel(\"Accuracy in %\",color=\"blue\")\n",
    "ax1.set_ylim(0, 1)\n",
    "ax1.set_title('No.of hidden nodes vs Performance')\n",
    "\n",
    "ax2 = ax1.twinx()\n",
    "ax2.set_ylabel(\"Time elapsed in Seconds\",color=\"orange\")\n",
    "ax2.plot(hidden_node_array,time_array,color=\"orange\" )\n",
    "\n",
    "plt.show()"
   ]
  },
  {
   "cell_type": "code",
   "execution_count": null,
   "id": "690bdf6e-15ef-4b4b-a089-e65677671e33",
   "metadata": {},
   "outputs": [],
   "source": []
  }
 ],
 "metadata": {
  "kernelspec": {
   "display_name": "Python 3 (ipykernel)",
   "language": "python",
   "name": "python3"
  },
  "language_info": {
   "codemirror_mode": {
    "name": "ipython",
    "version": 3
   },
   "file_extension": ".py",
   "mimetype": "text/x-python",
   "name": "python",
   "nbconvert_exporter": "python",
   "pygments_lexer": "ipython3",
   "version": "3.8.13"
  },
  "vscode": {
   "interpreter": {
    "hash": "a50c9c403f8b966e00bd0fdb70b3952265e6e9262fb2f615e71b265b079cf591"
   }
  }
 },
 "nbformat": 4,
 "nbformat_minor": 5
}
