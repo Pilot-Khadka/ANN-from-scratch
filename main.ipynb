{
 "cells": [
  {
   "cell_type": "code",
   "execution_count": 1,
   "id": "5ec9bb0d-039e-4a5c-ad6d-eb0e242ceb47",
   "metadata": {},
   "outputs": [
    {
     "name": "stdout",
     "output_type": "stream",
     "text": [
      "<class 'pandas.core.frame.DataFrame'>\n",
      "RangeIndex: 59999 entries, 0 to 59998\n",
      "Columns: 785 entries, 5 to 0.617\n",
      "dtypes: int64(785)\n",
      "memory usage: 359.3 MB\n"
     ]
    }
   ],
   "source": [
    "%matplotlib inline\n",
    "import pandas as pd\n",
    "import matplotlib.pyplot as plt\n",
    "\n",
    "train = pd.read_csv(\"mnist_train.csv\")\n",
    "train.info()"
   ]
  },
  {
   "cell_type": "code",
   "execution_count": 2,
   "id": "68cee620-5b6d-4a76-8d7b-b57392276853",
   "metadata": {},
   "outputs": [
    {
     "data": {
      "text/plain": [
       "28.0"
      ]
     },
     "execution_count": 2,
     "metadata": {},
     "output_type": "execute_result"
    }
   ],
   "source": [
    "#1st column label , rest of the row is data\n",
    "784/28"
   ]
  },
  {
   "cell_type": "code",
   "execution_count": 3,
   "id": "943d6831-c178-4e9c-92dd-ab43a1c16afa",
   "metadata": {},
   "outputs": [],
   "source": [
    "# integer , reshaping each row into 28x28 data"
   ]
  },
  {
   "cell_type": "code",
   "execution_count": 4,
   "id": "ffae29fe-83c0-4081-9009-7e8bb2693c61",
   "metadata": {},
   "outputs": [
    {
     "data": {
      "text/plain": [
       "<matplotlib.image.AxesImage at 0x7f93afa084c0>"
      ]
     },
     "execution_count": 4,
     "metadata": {},
     "output_type": "execute_result"
    },
    {
     "data": {
      "image/png": "[encoded data removed]",
      "text/plain": [
       "<Figure size 640x480 with 1 Axes>"
      ]
     },
     "metadata": {},
     "output_type": "display_data"
    }
   ],
   "source": [
    "data = train[train.columns[1:]]\n",
    "\n",
    "label = train[train.columns[0]]\n",
    "\n",
    "data = data.values.reshape(-1,28,28)\n",
    "plt.imshow(data[0])"
   ]
  },
  {
   "cell_type": "code",
   "execution_count": 8,
   "id": "fc236476-835c-43c8-a78d-bc155d4933df",
   "metadata": {},
   "outputs": [
    {
     "data": {
      "text/plain": [
       "<matplotlib.image.AxesImage at 0x7f93afa66dc0>"
      ]
     },
     "execution_count": 8,
     "metadata": {},
     "output_type": "execute_result"
    },
    {
     "data": {
      "image/png": "[encoded data removed]",
      "text/plain": [
       "<Figure size 640x480 with 1 Axes>"
      ]
     },
     "metadata": {},
     "output_type": "display_data"
    }
   ],
   "source": [
    "plt.imshow(data[0],cmap = 'Greys')"
   ]
  },
  {
   "cell_type": "code",
   "execution_count": 7,
   "id": "bb222e9d-024e-4c58-b18a-24b8ced7e282",
   "metadata": {},
   "outputs": [],
   "source": [
    "# preprocess data to convert 28x28 to 14x14 for better performance\n"
   ]
  },
  {
   "cell_type": "code",
   "execution_count": null,
   "id": "9f6a04ed-2cb4-4c6a-b542-70e41292effc",
   "metadata": {},
   "outputs": [],
   "source": [
    "# Neural network with a single hidden layer\n",
    "# input layer contains 784 = 28x28 nodes\n",
    "# number of nodes in hidden layer = n (to be experimented)\n",
    "# output layer contains 10 nodes for each numbers(0to 9)"
   ]
  },
  {
   "cell_type": "code",
   "execution_count": 7,
   "id": "355da9aa-dfaa-4d70-9451-c8b191a9f59e",
   "metadata": {},
   "outputs": [],
   "source": [
    "import numpy as np\n",
    "\n",
    "def sigmoid(z):\n",
    "    return 1/(1+np.exp(-z))\n",
    "    \n",
    "class NeuralNetwork:\n",
    "    def __init__(self, input_nodes, hidden_nodes, output_nodes, learning_rate):\n",
    "        self.input_nodes = input_nodes\n",
    "        self.hidden_nodes = hidden_nodes\n",
    "        self.output_nodes = output_nodes\n",
    "        self.learningrate = learning_rate\n",
    "        \n",
    "        self.Winput_hidden = pd.DataFrame(np.random.randn(hidden_nodes,input_nodes))\n",
    "        self.Whidden_output = pd.DataFrame(np.random.randn(output_nodes,hidden_nodes))\n",
    "    \n",
    "    def feedforward(self,data):\n",
    "        Xhiddenop = sigmoid(pd.dot(self.Winput_hidden,data))\n",
    "        Xfinalop = sigmoid(pd.dot(self.hidden_output,Xhiddenop))\n",
    "        pass\n",
    "    \n",
    "    def GradientDescent():\n",
    "        pass\n",
    "    \n",
    "    \n",
    "    def backprop():\n",
    "        pass\n",
    "    \n",
    "    "
   ]
  },
  {
   "cell_type": "code",
   "execution_count": 6,
   "id": "f3ebf349-3bcc-4800-9263-19b1c67faebc",
   "metadata": {},
   "outputs": [
    {
     "data": {
      "text/plain": [
       "array([[0.92527755, 0.10465849],\n",
       "       [0.07654007, 0.60565699]])"
      ]
     },
     "execution_count": 6,
     "metadata": {},
     "output_type": "execute_result"
    }
   ],
   "source": []
  },
  {
   "cell_type": "code",
   "execution_count": null,
   "id": "f7cc00dc-6328-4d02-b1d8-f36a1a9add86",
   "metadata": {},
   "outputs": [],
   "source": []
  }
 ],
 "metadata": {
  "kernelspec": {
   "display_name": "Python 3 (ipykernel)",
   "language": "python",
   "name": "python3"
  },
  "language_info": {
   "codemirror_mode": {
    "name": "ipython",
    "version": 3
   },
   "file_extension": ".py",
   "mimetype": "text/x-python",
   "name": "python",
   "nbconvert_exporter": "python",
   "pygments_lexer": "ipython3",
   "version": "3.8.13"
  }
 },
 "nbformat": 4,
 "nbformat_minor": 5
}
