{
 "cells": [
  {
   "cell_type": "code",
   "execution_count": 10,
   "id": "fa382166-553a-48f6-a1e4-9ea9e85e143d",
   "metadata": {},
   "outputs": [],
   "source": [
    "import matplotlib.pyplot as plt\n",
    "import numpy as np\n",
    "from sklearn.model_selection import train_test_split\n",
    "%matplotlib inline\n",
    "\n",
    "data_file = open(\"mnist_train.csv\",\"r\")\n",
    "data_list = data_file.readlines()\n",
    "data_file.close()"
   ]
  },
  {
   "cell_type": "code",
   "execution_count": 11,
   "id": "7f970160-c470-4031-8ea2-d51603b39c5d",
   "metadata": {},
   "outputs": [
    {
     "data": {
      "text/plain": [
       "60000"
      ]
     },
     "execution_count": 11,
     "metadata": {},
     "output_type": "execute_result"
    }
   ],
   "source": [
    "len(data_list)"
   ]
  },
  {
   "cell_type": "code",
   "execution_count": 12,
   "id": "52c846fe-135c-48c9-8d42-246cad85d7f1",
   "metadata": {},
   "outputs": [
    {
     "data": {
      "text/plain": [
       "42000"
      ]
     },
     "execution_count": 12,
     "metadata": {},
     "output_type": "execute_result"
    }
   ],
   "source": [
    "train_data, test_data = train_test_split(data_list,test_size=0.3) \n",
    "len(train_data)"
   ]
  },
  {
   "cell_type": "code",
   "execution_count": 13,
   "id": "33ee32bf-a533-412c-8a63-3446ed486962",
   "metadata": {},
   "outputs": [
    {
     "data": {
      "text/plain": [
       "'1,0,0,0,0,0,0,0,0,0,0,0,0,0,0,0,0,0,0,0,0,0,0,0,0,0,0,0,0,0,0,0,0,0,0,0,0,0,0,0,0,0,0,0,0,0,0,0,0,0,0,0,0,0,0,0,0,0,0,0,0,0,0,0,0,0,0,0,0,0,0,0,0,0,0,0,0,0,0,0,0,0,0,0,0,0,0,0,0,0,0,0,0,0,0,0,0,0,0,0,0,0,0,0,0,0,0,0,0,0,0,0,0,0,0,0,0,0,0,0,0,0,0,0,0,0,0,0,0,0,0,0,0,0,0,0,0,0,0,0,0,0,0,0,0,0,0,0,0,0,0,0,0,0,0,0,0,57,255,139,0,0,0,0,0,0,0,0,0,0,0,0,0,0,0,0,0,0,0,0,0,0,0,0,0,168,253,251,0,0,0,0,0,0,0,0,0,0,0,0,0,0,0,0,0,0,0,0,0,0,0,0,29,197,254,253,0,0,0,0,0,0,0,0,0,0,0,0,0,0,0,0,0,0,0,0,0,0,0,0,85,251,253,251,0,0,0,0,0,0,0,0,0,0,0,0,0,0,0,0,0,0,0,0,0,0,0,0,254,253,254,196,0,0,0,0,0,0,0,0,0,0,0,0,0,0,0,0,0,0,0,0,0,0,0,0,253,251,253,83,0,0,0,0,0,0,0,0,0,0,0,0,0,0,0,0,0,0,0,0,0,0,0,169,254,253,226,56,0,0,0,0,0,0,0,0,0,0,0,0,0,0,0,0,0,0,0,0,0,0,0,168,253,251,168,0,0,0,0,0,0,0,0,0,0,0,0,0,0,0,0,0,0,0,0,0,0,0,141,253,254,253,0,0,0,0,0,0,0,0,0,0,0,0,0,0,0,0,0,0,0,0,0,0,0,0,253,251,253,251,0,0,0,0,0,0,0,0,0,0,0,0,0,0,0,0,0,0,0,0,0,0,0,57,254,253,226,56,0,0,0,0,0,0,0,0,0,0,0,0,0,0,0,0,0,0,0,0,0,0,0,168,253,251,168,0,0,0,0,0,0,0,0,0,0,0,0,0,0,0,0,0,0,0,0,0,0,0,85,253,254,253,0,0,0,0,0,0,0,0,0,0,0,0,0,0,0,0,0,0,0,0,0,0,0,0,197,251,253,251,0,0,0,0,0,0,0,0,0,0,0,0,0,0,0,0,0,0,0,0,0,0,0,0,254,253,254,84,0,0,0,0,0,0,0,0,0,0,0,0,0,0,0,0,0,0,0,0,0,0,0,0,253,251,196,28,0,0,0,0,0,0,0,0,0,0,0,0,0,0,0,0,0,0,0,0,0,0,0,0,254,253,0,0,0,0,0,0,0,0,0,0,0,0,0,0,0,0,0,0,0,0,0,0,0,0,0,0,253,251,0,0,0,0,0,0,0,0,0,0,0,0,0,0,0,0,0,0,0,0,0,0,0,0,0,0,254,84,0,0,0,0,0,0,0,0,0,0,0,0,0,0,0,0,0,0,0,0,0,0,0,0,0,0,139,83,0,0,0,0,0,0,0,0,0,0,0,0,0,0,0,0,0,0,0,0,0,0,0,0,0,0,0,0,0,0,0,0,0,0,0,0,0,0,0,0,0,0,0,0,0,0,0,0,0,0,0,0,0,0,0,0,0,0,0,0,0,0,0,0,0,0,0,0,0,0,0,0,0,0,0,0,0,0,0,0,0,0,0,0,0,0,0,0,0,0,0,0,0,0,0,0,0,0,0\\n'"
      ]
     },
     "execution_count": 13,
     "metadata": {},
     "output_type": "execute_result"
    }
   ],
   "source": [
    "# first value is label, rest is data\n",
    "train_data[0]"
   ]
  },
  {
   "cell_type": "code",
   "execution_count": 14,
   "id": "59c0db4e-4ecb-4fd9-98b9-04df091920ed",
   "metadata": {},
   "outputs": [
    {
     "name": "stdout",
     "output_type": "stream",
     "text": [
      "1\n"
     ]
    },
    {
     "data": {
      "text/plain": [
       "<matplotlib.image.AxesImage at 0x7faca72d91c0>"
      ]
     },
     "execution_count": 14,
     "metadata": {},
     "output_type": "execute_result"
    },
    {
     "data": {
      "image/png": "[encoded data removed]",
      "text/plain": [
       "<Figure size 640x480 with 1 Axes>"
      ]
     },
     "metadata": {},
     "output_type": "display_data"
    }
   ],
   "source": [
    "all_values = train_data[0].split(\",\")\n",
    "print(all_values[0])\n",
    "\n",
    "# reshaping each row into 28x28 data\n",
    "image_array = np.asfarray(all_values[1:]).reshape((28,28))\n",
    "plt.imshow(image_array)"
   ]
  },
  {
   "cell_type": "code",
   "execution_count": 30,
   "id": "c37bcb6c-0cdf-40a1-92a4-d71b2271e4ed",
   "metadata": {},
   "outputs": [],
   "source": [
    "# Neural network with a single hidden layer\n",
    "# input layer contains 784 = 28x28 nodes\n",
    "# number of nodes in hidden layer = n (to be experimented)\n",
    "# output layer contains 10 nodes for each numbers (0to 9)\n",
    "\n",
    "class NeuralNetwork:\n",
    "    def __init__(self, input_nodes, hidden_nodes, output_nodes, learning_rate):\n",
    "        self.input_nodes = input_nodes\n",
    "        self.hidden_nodes = hidden_nodes\n",
    "        self.output_nodes = output_nodes\n",
    "        self.learningrate = learning_rate\n",
    "        self.Weight_input_hidden = np.random.uniform(-1, 1, size = (hidden_nodes,input_nodes))\n",
    "        self.Weight_hidden_output = np.random.uniform(-1, 1, size = (output_nodes,hidden_nodes))\n",
    "        \n",
    "    def query(self,inputs_list):\n",
    "        inputs = np.array(inputs_list, ndmin=2).T\n",
    "        hidden_outputs = sigmoid(np.dot(self.Weight_input_hidden,inputs))\n",
    "        final_outputs = sigmoid(np.dot(self.Weight_hidden_output,hidden_outputs))\n",
    "        return final_outputs\n",
    "    \n",
    "    def train(self,inputs_list,targets_list):\n",
    "        inputs = np.array(inputs_list, ndmin=2).T\n",
    "        targets = np.array(targets_list, ndmin=2).T\n",
    "        \n",
    "        hidden_outputs = sigmoid(np.dot(self.Weight_input_hidden,inputs))\n",
    "        final_outputs = sigmoid(np.dot(self.Weight_hidden_output,hidden_outputs))\n",
    "        \n",
    "        output_errors = targets - final_outputs\n",
    "        hidden_errors = np.dot(self.Weight_hidden_output.T, output_errors)\n",
    "        \n",
    "        self.Weight_hidden_output += self.learningrate * np.dot((output_errors * final_outputs*(1.0-final_outputs)),np.transpose(hidden_outputs))\n",
    "        \n",
    "        self.Weight_input_hidden +=self.learningrate * np.dot((hidden_errors * hidden_outputs*(1.0-hidden_outputs)),np.transpose(inputs))\n",
    "        \n",
    "def sigmoid(z):\n",
    "    return 1/(1+np.exp(-z))"
   ]
  },
  {
   "cell_type": "code",
   "execution_count": 38,
   "id": "2dd8d582-5320-449b-955b-896e4cb95e3a",
   "metadata": {},
   "outputs": [],
   "source": [
    "input_nodes = 784\n",
    "hidden_nodes = 50\n",
    "output_nodes = 10\n",
    "learning_rate = 0.1\n",
    "\n",
    "n = NeuralNetwork(input_nodes,\n",
    "                  hidden_nodes,\n",
    "                  output_nodes,\n",
    "                  learning_rate)"
   ]
  },
  {
   "cell_type": "code",
   "execution_count": 35,
   "id": "e1977054-a41e-49e2-9d84-6f2ff46cbdb2",
   "metadata": {},
   "outputs": [
    {
     "data": {
      "text/plain": [
       "array([[0.10095445],\n",
       "       [0.06046473],\n",
       "       [0.9609692 ],\n",
       "       [0.94133083],\n",
       "       [0.89608927],\n",
       "       [0.51079199],\n",
       "       [0.539724  ],\n",
       "       [0.15615523],\n",
       "       [0.94420884],\n",
       "       [0.84359516]])"
      ]
     },
     "execution_count": 35,
     "metadata": {},
     "output_type": "execute_result"
    }
   ],
   "source": [
    "# Check Neural Network outputs for a given input\n",
    "n.query((np.asfarray(all_values[1:])/255.0+0.99)+0.01)"
   ]
  },
  {
   "cell_type": "code",
   "execution_count": 39,
   "id": "d54a8c3c-4ccf-42e2-983f-958d45793082",
   "metadata": {},
   "outputs": [
    {
     "name": "stdout",
     "output_type": "stream",
     "text": [
      "Epoch [1/5], train_accuracy: 0.9433571428571429\n",
      "Epoch [2/5], train_accuracy: 0.9565238095238096\n",
      "Epoch [3/5], train_accuracy: 0.960952380952381\n",
      "Epoch [4/5], train_accuracy: 0.9637142857142857\n",
      "Epoch [5/5], train_accuracy: 0.9678333333333333\n"
     ]
    }
   ],
   "source": [
    "# Scale the input values to range of 0.01 to 1.00\n",
    "# Target array of size 10 is initialized to 0.01 \n",
    "# for given label, value in target is updated to 0.99\n",
    "# for eg: label = 9 \n",
    "#                    0    1    2    3    4    5     6    7   8     9\n",
    "# initial target = [0.01 0.01 0.01 0.01 0.01 0.01 0.01 0.01 0.01 0.01 ]\n",
    "# updated target = [0.01 0.01 0.01 0.01 0.01 0.01 0.01 0.01 0.01 0.99 ]\n",
    "\n",
    "def train_nn(n,train_data,epochs):\n",
    "    for i in range(epochs):\n",
    "        for j in train_data:\n",
    "            all_values = j.split(\",\")\n",
    "            inputs = (np.asfarray(all_values[1:]) /255.0 *0.99)+0.01\n",
    "            \n",
    "            targets = np.zeros(output_nodes)+0.01\n",
    "            targets[int(all_values[0])] = 0.99\n",
    "                        \n",
    "            n.train(inputs,targets)\n",
    "        \n",
    "        accuracy = score(n,train_data)\n",
    "        print(\"Epoch [{}/{}], train_accuracy: {}\".format(i+1, epochs, accuracy))\n",
    "\n",
    "def score(n, data_list):\n",
    "    score = []\n",
    "    for i in data_list:\n",
    "        labels = i.split(\",\")\n",
    "        correct_label = int(labels[0])\n",
    "    \n",
    "        inputs = (np.asfarray(labels[1:]) /255.0 *0.99)+0.01\n",
    "        outputs = n.query(inputs)\n",
    "        label = np.argmax(outputs)\n",
    "        if(label == correct_label):\n",
    "            score.append(1)\n",
    "        else:\n",
    "            score.append(0)\n",
    "          \n",
    "    score = np.asarray(score)    \n",
    "    performance = (score.sum()/score.size)\n",
    "    return performance         \n",
    "\n",
    "# train neural network\n",
    "train_nn(n,train_data,epochs = 5)"
   ]
  },
  {
   "cell_type": "code",
   "execution_count": 40,
   "id": "d194ebc0-ff8a-4f13-88cd-9cd7d2ff9bd5",
   "metadata": {},
   "outputs": [
    {
     "name": "stdout",
     "output_type": "stream",
     "text": [
      "Test_accuracy :  0.9502222222222222\n"
     ]
    }
   ],
   "source": [
    "def test_nn(n,test_data):\n",
    "    performance = score(n,test_data)\n",
    "    return performance\n",
    "    \n",
    "# test the neural network\n",
    "print(\"Test_accuracy : \",test_nn(n,test_data))"
   ]
  },
  {
   "cell_type": "code",
   "execution_count": null,
   "id": "169e5565-0a3f-4c02-9621-7c574665be80",
   "metadata": {},
   "outputs": [],
   "source": [
    "# To find the relation between hidden nodes and accuracy\n",
    "import time\n",
    "\n",
    "score_array = []\n",
    "time_array = []\n",
    "\n",
    "arr1 = np.array([1,2,3,4,5,6,7,8,9])\n",
    "arr = np.arange(10,201,10)\n",
    "hidden_node_array = np.concatenate((arr1,arr),axis = None)\n",
    "           \n",
    "for i in hidden_node_array:\n",
    "    # get the start time\n",
    "    st = time.time()\n",
    "    \n",
    "    hidden_nodes = i\n",
    "    n = NeuralNetwork(input_nodes,\n",
    "                      hidden_nodes,\n",
    "                      output_nodes,\n",
    "                      learning_rate)\n",
    "    \n",
    "    train_nn(n,train_data);\n",
    "    \n",
    "    performance = test_nn(n,test_data)\n",
    "    \n",
    "    # store  performance% for plotting\n",
    "    score_array.append(performance)\n",
    "    \n",
    "    # get the end time\n",
    "    et = time.time()\n",
    "    \n",
    "    # get the execution time\n",
    "    elapsed_time = et - st\n",
    "    time_array.append(elapsed_time)\n",
    "    \n",
    "    if (hidden_nodes % 10 == 0):\n",
    "        print((hidden_nodes/200)*100,\"%...\")"
   ]
  },
  {
   "cell_type": "code",
   "execution_count": 56,
   "id": "09c7966a-2cf5-42b1-9f49-69b7570be8fe",
   "metadata": {},
   "outputs": [
    {
     "data": {
      "image/png": "[encoded data removed]",
      "text/plain": [
       "<Figure size 640x480 with 2 Axes>"
      ]
     },
     "metadata": {},
     "output_type": "display_data"
    }
   ],
   "source": [
    "# Relation between Number of hidden layers and accuracy\n",
    "fig, ax1 = plt.subplots()\n",
    "ax1.plot(hidden_node_array,score_array,color=\"blue\")\n",
    "ax1.set_xlabel(\"Number of hidden nodes\")\n",
    "ax1.set_xlim(0, 200)\n",
    "ax1.set_ylabel(\"Accuracy in %\",color=\"blue\")\n",
    "ax1.set_ylim(0, 100)\n",
    "ax1.set_title('No.of hidden layers vs Performance')\n",
    "\n",
    "ax2 = ax1.twinx()\n",
    "ax2.set_ylabel(\"Time elapsed in Seconds\",color=\"orange\")\n",
    "ax2.plot(hidden_node_array,time_array,color=\"orange\" )\n",
    "\n",
    "plt.show()"
   ]
  },
  {
   "cell_type": "code",
   "execution_count": null,
   "id": "690bdf6e-15ef-4b4b-a089-e65677671e33",
   "metadata": {},
   "outputs": [],
   "source": []
  },
  {
   "cell_type": "code",
   "execution_count": null,
   "id": "5ee8edf1-63ff-484e-b68d-90c1176d248c",
   "metadata": {},
   "outputs": [],
   "source": []
  }
 ],
 "metadata": {
  "kernelspec": {
   "display_name": "Python 3 (ipykernel)",
   "language": "python",
   "name": "python3"
  },
  "language_info": {
   "codemirror_mode": {
    "name": "ipython",
    "version": 3
   },
   "file_extension": ".py",
   "mimetype": "text/x-python",
   "name": "python",
   "nbconvert_exporter": "python",
   "pygments_lexer": "ipython3",
   "version": "3.8.13"
  },
  "vscode": {
   "interpreter": {
    "hash": "a50c9c403f8b966e00bd0fdb70b3952265e6e9262fb2f615e71b265b079cf591"
   }
  }
 },
 "nbformat": 4,
 "nbformat_minor": 5
}
