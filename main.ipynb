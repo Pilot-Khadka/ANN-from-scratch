{
 "cells": [
  {
   "cell_type": "code",
   "execution_count": 1,
   "id": "fa382166-553a-48f6-a1e4-9ea9e85e143d",
   "metadata": {},
   "outputs": [],
   "source": [
    "import matplotlib.pyplot as plt\n",
    "import numpy as np\n",
    "from sklearn.model_selection import train_test_split\n",
    "%matplotlib inline\n",
    "\n",
    "data_file = open(\"mnist_train.csv\",\"r\")\n",
    "data_list = data_file.readlines()\n",
    "data_file.close()"
   ]
  },
  {
   "cell_type": "code",
   "execution_count": 2,
   "id": "7f970160-c470-4031-8ea2-d51603b39c5d",
   "metadata": {},
   "outputs": [
    {
     "data": {
      "text/plain": [
       "60000"
      ]
     },
     "execution_count": 2,
     "metadata": {},
     "output_type": "execute_result"
    }
   ],
   "source": [
    "len(data_list)"
   ]
  },
  {
   "cell_type": "code",
   "execution_count": 3,
   "id": "52c846fe-135c-48c9-8d42-246cad85d7f1",
   "metadata": {},
   "outputs": [
    {
     "data": {
      "text/plain": [
       "42000"
      ]
     },
     "execution_count": 3,
     "metadata": {},
     "output_type": "execute_result"
    }
   ],
   "source": [
    "train_data, test_data = train_test_split(data_list,test_size=0.3) \n",
    "len(train_data)"
   ]
  },
  {
   "cell_type": "code",
   "execution_count": 4,
   "id": "33ee32bf-a533-412c-8a63-3446ed486962",
   "metadata": {},
   "outputs": [
    {
     "data": {
      "text/plain": [
       "'7,0,0,0,0,0,0,0,0,0,0,0,0,0,0,0,0,0,0,0,0,0,0,0,0,0,0,0,0,0,0,0,0,0,0,0,0,0,0,0,0,0,0,0,0,0,0,0,0,0,0,0,0,0,0,0,0,0,0,0,0,0,0,0,0,0,0,0,0,0,0,0,0,0,0,0,0,0,0,0,0,0,0,0,0,0,0,0,0,0,0,0,0,0,0,0,0,0,0,0,0,0,0,0,0,0,0,0,0,0,0,0,0,0,0,0,0,0,0,0,0,0,0,0,0,0,0,0,0,0,0,0,0,0,0,0,0,0,0,0,0,0,0,0,0,0,0,0,0,0,0,0,0,0,0,0,0,0,0,0,0,0,0,0,0,0,0,0,0,0,0,0,0,0,0,0,0,0,0,0,0,0,0,0,0,0,0,0,0,0,0,0,0,0,0,0,0,0,0,0,0,0,0,6,138,27,0,0,0,0,0,0,0,110,255,118,0,0,0,0,0,0,0,0,0,0,0,0,0,0,0,15,238,217,10,0,0,0,0,0,106,244,254,98,0,0,0,0,0,0,0,0,0,0,0,0,0,0,0,0,104,254,168,31,0,0,50,179,249,254,254,13,0,0,0,0,0,0,0,0,0,0,0,0,0,0,0,0,85,254,254,227,128,110,235,243,112,179,254,0,0,0,0,0,0,0,0,0,0,0,0,0,0,0,0,0,0,73,92,176,254,254,137,31,0,200,254,0,0,0,0,0,0,0,0,0,0,0,0,0,0,0,0,0,0,0,0,0,0,0,0,0,0,201,163,0,0,0,0,0,0,0,0,0,0,0,0,0,0,0,0,0,0,0,0,0,0,0,0,0,21,231,163,0,0,0,0,0,0,0,0,0,0,0,0,0,0,0,0,0,0,0,0,0,0,0,0,0,50,254,118,0,0,0,0,0,0,0,0,0,0,0,0,0,0,0,0,0,0,0,0,0,0,0,0,0,128,246,42,0,0,0,0,0,0,0,0,0,0,0,0,0,0,0,0,0,0,0,0,0,0,0,0,0,128,235,0,0,0,0,0,0,0,0,0,0,0,0,0,0,0,0,0,0,0,0,0,0,0,0,0,0,219,145,0,0,0,0,0,0,0,0,0,0,0,0,0,0,0,0,0,0,0,0,0,0,0,0,0,51,251,144,0,0,0,0,0,0,0,0,0,0,0,0,0,0,0,0,0,0,0,0,0,0,0,0,0,132,254,67,0,0,0,0,0,0,0,0,0,0,0,0,0,0,0,0,0,0,0,0,0,0,0,0,0,152,238,31,0,0,0,0,0,0,0,0,0,0,0,0,0,0,0,0,0,0,0,0,0,0,0,0,0,236,152,0,0,0,0,0,0,0,0,0,0,0,0,0,0,0,0,0,0,0,0,0,0,0,0,0,21,242,192,0,0,0,0,0,0,0,0,0,0,0,0,0,0,0,0,0,0,0,0,0,0,0,0,0,73,254,127,0,0,0,0,0,0,0,0,0,0,0,0,0,0,0,0,0,0,0,0,0,0,0,0,0,73,254,49,0,0,0,0,0,0,0,0,0,0,0,0,0,0,0,0,0,0,0,0,0,0,0,0,0,113,254,101,0,0,0,0,0,0,0,0,0,0,0,0,0,0,0,0,0,0,0,0,0,0,0,0,0,163,214,11,0,0,0,0,0,0,0,0,0,0,0,0,0,0,0,0,0,0,0,0,0,0,0,0,0,0,0,0,0,0,0,0,0,0,0,0,0,0,0,0\\n'"
      ]
     },
     "execution_count": 4,
     "metadata": {},
     "output_type": "execute_result"
    }
   ],
   "source": [
    "# first value is label, rest is data\n",
    "train_data[0]"
   ]
  },
  {
   "cell_type": "code",
   "execution_count": 5,
   "id": "59c0db4e-4ecb-4fd9-98b9-04df091920ed",
   "metadata": {},
   "outputs": [
    {
     "name": "stdout",
     "output_type": "stream",
     "text": [
      "7\n"
     ]
    },
    {
     "data": {
      "text/plain": [
       "<matplotlib.image.AxesImage at 0x7fc7c7ea19d0>"
      ]
     },
     "execution_count": 5,
     "metadata": {},
     "output_type": "execute_result"
    },
    {
     "data": {
      "image/png": "[encoded data removed]",
      "text/plain": [
       "<Figure size 640x480 with 1 Axes>"
      ]
     },
     "metadata": {},
     "output_type": "display_data"
    }
   ],
   "source": [
    "all_values = train_data[0].split(\",\")\n",
    "print(all_values[0])\n",
    "\n",
    "# reshaping each row into 28x28 data\n",
    "image_array = np.asfarray(all_values[1:]).reshape((28,28))\n",
    "plt.imshow(image_array)"
   ]
  },
  {
   "cell_type": "code",
   "execution_count": 6,
   "id": "4dc04cda-4d60-46b5-9c2c-50f10fed443f",
   "metadata": {},
   "outputs": [
    {
     "data": {
      "text/plain": [
       "<matplotlib.image.AxesImage at 0x7fc7cfa8b0a0>"
      ]
     },
     "execution_count": 6,
     "metadata": {},
     "output_type": "execute_result"
    },
    {
     "data": {
      "image/png": "[encoded data removed]",
      "text/plain": [
       "<Figure size 640x480 with 1 Axes>"
      ]
     },
     "metadata": {},
     "output_type": "display_data"
    }
   ],
   "source": [
    "plt.imshow(image_array,cmap='Greys',interpolation='None')"
   ]
  },
  {
   "cell_type": "code",
   "execution_count": 7,
   "id": "c37bcb6c-0cdf-40a1-92a4-d71b2271e4ed",
   "metadata": {},
   "outputs": [],
   "source": [
    "# Neural network with a single hidden layer\n",
    "# input layer contains 784 = 28x28 nodes\n",
    "# number of nodes in hidden layer = n (to be experimented)\n",
    "# output layer contains 10 nodes for each numbers (0to 9)\n",
    "\n",
    "\n",
    "class NeuralNetwork:\n",
    "    def __init__(self, input_nodes, hidden_nodes, output_nodes, learning_rate):\n",
    "        self.input_nodes = input_nodes\n",
    "        self.hidden_nodes = hidden_nodes\n",
    "        self.output_nodes = output_nodes\n",
    "        self.learningrate = learning_rate\n",
    "        \n",
    "        self.Weight_input_hidden = np.random.uniform(-1, 1, size = (hidden_nodes,input_nodes))\n",
    "        self.Weight_hidden_output = np.random.uniform(-1, 1, size = (output_nodes,hidden_nodes))\n",
    "        \n",
    "    def query(self,inputs_list):\n",
    "        inputs = np.array(inputs_list, ndmin=2).T\n",
    "        hidden_outputs = sigmoid(np.dot(self.Weight_input_hidden,inputs))\n",
    "        final_outputs = sigmoid(np.dot(self.Weight_hidden_output,hidden_outputs))\n",
    "        return final_outputs\n",
    "    \n",
    "    def train(self,inputs_list,targets_list):\n",
    "        inputs = np.array(inputs_list, ndmin=2).T\n",
    "        targets = np.array(targets_list, ndmin=2).T\n",
    "        \n",
    "        hidden_outputs = sigmoid(np.dot(self.Weight_input_hidden,inputs))\n",
    "        final_outputs = sigmoid(np.dot(self.Weight_hidden_output,hidden_outputs))\n",
    "        \n",
    "        output_errors = targets - final_outputs\n",
    "        hidden_errors = np.dot(self.Weight_hidden_output.T, output_errors)\n",
    "        \n",
    "        self.Weight_hidden_output += self.learningrate * np.dot((output_errors * final_outputs*(1.0-final_outputs)),np.transpose(hidden_outputs))\n",
    "        \n",
    "        self.Weight_input_hidden +=self.learningrate * np.dot((hidden_errors * hidden_outputs*(1.0-hidden_outputs)),np.transpose(inputs))\n",
    "        \n",
    "def sigmoid(z):\n",
    "    return 1/(1+np.exp(-z))"
   ]
  },
  {
   "cell_type": "code",
   "execution_count": 8,
   "id": "2dd8d582-5320-449b-955b-896e4cb95e3a",
   "metadata": {},
   "outputs": [],
   "source": [
    "input_nodes = 784\n",
    "hidden_nodes = 100\n",
    "output_nodes = 10\n",
    "learning_rate = 0.4\n",
    "n = NeuralNetwork(input_nodes,hidden_nodes,output_nodes,learning_rate)"
   ]
  },
  {
   "cell_type": "code",
   "execution_count": 9,
   "id": "e1977054-a41e-49e2-9d84-6f2ff46cbdb2",
   "metadata": {},
   "outputs": [
    {
     "data": {
      "text/plain": [
       "array([[0.99973404],\n",
       "       [0.96320562],\n",
       "       [0.014692  ],\n",
       "       [0.3204576 ],\n",
       "       [0.56283061],\n",
       "       [0.59052011],\n",
       "       [0.00255045],\n",
       "       [0.12596623],\n",
       "       [0.09483495],\n",
       "       [0.90658951]])"
      ]
     },
     "execution_count": 9,
     "metadata": {},
     "output_type": "execute_result"
    }
   ],
   "source": [
    "# Check Neural Network works for a given input\n",
    "n.query((np.asfarray(all_values[1:])/255.0+0.99)+0.01)"
   ]
  },
  {
   "cell_type": "code",
   "execution_count": 12,
   "id": "d54a8c3c-4ccf-42e2-983f-958d45793082",
   "metadata": {},
   "outputs": [],
   "source": [
    "# Scale the input values to range of 0.01 to 1.00\n",
    "# Target array of size 10 is initialized to 0.01 \n",
    "# for given label, value in target is updated to 0.99\n",
    "# for eg: label = 9 \n",
    "#                    0    1    2    3    4    5     6    7   8     9\n",
    "# initial target = [0.01 0.01 0.01 0.01 0.01 0.01 0.01 0.01 0.01 0.01 ]\n",
    "# updated target = [0.01 0.01 0.01 0.01 0.01 0.01 0.01 0.01 0.01 0.99 ]\n",
    "\n",
    "def train_nn(n,train_data):\n",
    "    for i in train_data:\n",
    "        all_values = i.split(\",\")\n",
    "        inputs = (np.asfarray(all_values[1:]) /255.0 *0.99)+0.01\n",
    "        targets = np.zeros(output_nodes)+0.01\n",
    "        targets[int(all_values[0])] = 0.99\n",
    "        n.train(inputs,targets)\n",
    "        \n",
    "train_nn(n,train_data)"
   ]
  },
  {
   "cell_type": "code",
   "execution_count": 16,
   "id": "d194ebc0-ff8a-4f13-88cd-9cd7d2ff9bd5",
   "metadata": {},
   "outputs": [
    {
     "name": "stdout",
     "output_type": "stream",
     "text": [
      "Performance :  93.48333333333333 %\n"
     ]
    }
   ],
   "source": [
    "# test the neural network\n",
    "\n",
    "def test_nn(n,test_data):\n",
    "    score = []\n",
    "    for i in test_data:\n",
    "        labels = i.split(\",\")\n",
    "        correct_label = int(labels[0])\n",
    "    \n",
    "        inputs = (np.asfarray(labels[1:]) /255.0 *0.99)+0.01\n",
    "        outputs = n.query(inputs)\n",
    "        label = np.argmax(outputs)\n",
    "        if(label == correct_label):\n",
    "            score.append(1)\n",
    "        else:\n",
    "            score.append(0)\n",
    "    return score\n",
    "\n",
    "# Calculate performance score\n",
    "def calc_score(score):\n",
    "    score_array = np.asarray(score)\n",
    "    performance = (score_array.sum()/score_array.size)*100\n",
    "    return performance\n",
    "\n",
    "score = test_nn(n,test_data)\n",
    "performance = calc_score(score)\n",
    "print(\"Performance : \",performance,\"%\")"
   ]
  },
  {
   "cell_type": "code",
   "execution_count": 47,
   "id": "169e5565-0a3f-4c02-9621-7c574665be80",
   "metadata": {},
   "outputs": [
    {
     "name": "stdout",
     "output_type": "stream",
     "text": [
      "Progress : \n",
      "5.0 %...\n",
      "10.0 %...\n",
      "15.0 %...\n",
      "20.0 %...\n",
      "25.0 %...\n",
      "30.0 %...\n",
      "35.0 %...\n",
      "40.0 %...\n",
      "45.0 %...\n",
      "50.0 %...\n",
      "55.00000000000001 %...\n",
      "60.0 %...\n",
      "65.0 %...\n",
      "70.0 %...\n",
      "75.0 %...\n",
      "80.0 %...\n",
      "85.0 %...\n",
      "90.0 %...\n",
      "95.0 %...\n",
      "100.0 %...\n"
     ]
    }
   ],
   "source": [
    "# To find the relation between hidden nodes and accuracy\n",
    "import time\n",
    "\n",
    "hidden_node_array = []\n",
    "score_array = []\n",
    "time_array = []\n",
    "arr = np.arange(10,201,10)\n",
    "\n",
    "print(\"Progress : \")\n",
    "for i in arr:\n",
    "    # get the start time\n",
    "    st = time.time()\n",
    "    \n",
    "    hidden_nodes = i\n",
    "    n = NeuralNetwork(input_nodes,hidden_nodes,output_nodes,learning_rate)\n",
    "    train_nn(n,train_data)\n",
    "    score = test_nn(n,test_data)\n",
    "    performance = calc_score(score)\n",
    "    \n",
    "    # store number of nodes info and performance% for plotting\n",
    "    hidden_node_array.append(i)\n",
    "    score_array.append(performance)\n",
    "    \n",
    "    # get the end time\n",
    "    et = time.time()\n",
    "    \n",
    "    # get the execution time\n",
    "    elapsed_time = et - st\n",
    "    time_array.append(elapsed_time)\n",
    "    \n",
    "    if (hidden_nodes % 10 == 0):\n",
    "        print((hidden_nodes/200)*100,\"%...\")"
   ]
  },
  {
   "cell_type": "code",
   "execution_count": 54,
   "id": "09c7966a-2cf5-42b1-9f49-69b7570be8fe",
   "metadata": {},
   "outputs": [
    {
     "data": {
      "image/png": "[encoded data removed]",
      "text/plain": [
       "<Figure size 640x480 with 2 Axes>"
      ]
     },
     "metadata": {},
     "output_type": "display_data"
    }
   ],
   "source": [
    "# Relation between Number of hidden layers and accuracy\n",
    "fig, ax1 = plt.subplots()\n",
    "ax1.plot(hidden_node_array,score_array,color=\"blue\")\n",
    "ax1.set_xlabel(\"Number of hidden Layers\")\n",
    "ax1.set_xlim(0, 200)\n",
    "ax1.set_ylabel(\"Accuracy in %\")\n",
    "ax1.set_ylim(0, 100)\n",
    "ax1.set_title('No.of hidden layers vs Performance')\n",
    "\n",
    "ax2 = ax1.twinx()\n",
    "ax2.set_ylabel(\"Time elapsed in Seconds\")\n",
    "ax2.plot(hidden_node_array,time_array,color=\"orange\" )\n",
    "\n",
    "plt.show()"
   ]
  },
  {
   "cell_type": "code",
   "execution_count": null,
   "id": "690bdf6e-15ef-4b4b-a089-e65677671e33",
   "metadata": {},
   "outputs": [],
   "source": []
  }
 ],
 "metadata": {
  "kernelspec": {
   "display_name": "Python 3 (ipykernel)",
   "language": "python",
   "name": "python3"
  },
  "language_info": {
   "codemirror_mode": {
    "name": "ipython",
    "version": 3
   },
   "file_extension": ".py",
   "mimetype": "text/x-python",
   "name": "python",
   "nbconvert_exporter": "python",
   "pygments_lexer": "ipython3",
   "version": "3.8.13"
  },
  "vscode": {
   "interpreter": {
    "hash": "a50c9c403f8b966e00bd0fdb70b3952265e6e9262fb2f615e71b265b079cf591"
   }
  }
 },
 "nbformat": 4,
 "nbformat_minor": 5
}
